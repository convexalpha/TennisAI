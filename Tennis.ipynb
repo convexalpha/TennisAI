{
 "cells": [
  {
   "cell_type": "code",
   "execution_count": 1,
   "metadata": {},
   "outputs": [],
   "source": [
    "from unityagents import UnityEnvironment\n",
    "import numpy as np\n",
    "import torch\n",
    "from collections import deque\n",
    "from agents import Agent\n",
    "import matplotlib.pyplot as plt\n",
    "%matplotlib inline"
   ]
  },
  {
   "cell_type": "code",
   "execution_count": 2,
   "metadata": {},
   "outputs": [
    {
     "name": "stderr",
     "output_type": "stream",
     "text": [
      "INFO:unityagents:\n",
      "'Academy' started successfully!\n",
      "Unity Academy name: Academy\n",
      "        Number of Brains: 1\n",
      "        Number of External Brains : 1\n",
      "        Lesson number : 0\n",
      "        Reset Parameters :\n",
      "\t\t\n",
      "Unity brain name: TennisBrain\n",
      "        Number of Visual Observations (per agent): 0\n",
      "        Vector Observation space type: continuous\n",
      "        Vector Observation space size (per agent): 8\n",
      "        Number of stacked Vector Observation: 3\n",
      "        Vector Action space type: continuous\n",
      "        Vector Action space size (per agent): 2\n",
      "        Vector Action descriptions: , \n"
     ]
    }
   ],
   "source": [
    "env = UnityEnvironment(file_name=\"Tennis_Windows_x86_64/Tennis.exe\", no_graphics=True)"
   ]
  },
  {
   "cell_type": "markdown",
   "metadata": {},
   "source": [
    "Environments contain **_brains_** which are responsible for deciding the actions of their associated agents. Here we check for the first brain available, and set it as the default brain we will be controlling from Python."
   ]
  },
  {
   "cell_type": "code",
   "execution_count": 3,
   "metadata": {},
   "outputs": [],
   "source": [
    "# get the default brain\n",
    "brain_name = env.brain_names[0]\n",
    "brain = env.brains[brain_name]"
   ]
  },
  {
   "cell_type": "markdown",
   "metadata": {},
   "source": [
    "### State and Action Spaces"
   ]
  },
  {
   "cell_type": "code",
   "execution_count": 4,
   "metadata": {},
   "outputs": [
    {
     "name": "stdout",
     "output_type": "stream",
     "text": [
      "Number of agents: 2\n",
      "Size of each action: 2\n",
      "There are 2 agents. Each observes a state with length: 24\n",
      "The state for the first agent looks like: [ 0.          0.          0.          0.          0.          0.\n",
      "  0.          0.          0.          0.          0.          0.\n",
      "  0.          0.          0.          0.         -6.65278625 -1.5\n",
      " -0.          0.          6.83172083  6.         -0.          0.        ]\n"
     ]
    }
   ],
   "source": [
    "# reset the environment\n",
    "env_info = env.reset(train_mode=True)[brain_name]\n",
    "\n",
    "# number of agents \n",
    "n_agents = len(env_info.agents)\n",
    "print('Number of agents:', n_agents)\n",
    "\n",
    "# size of each action\n",
    "action_size = brain.vector_action_space_size\n",
    "print('Size of each action:', action_size)\n",
    "\n",
    "# examine the state space \n",
    "states = env_info.vector_observations\n",
    "state_size = states.shape[1]\n",
    "print('There are {} agents. Each observes a state with length: {}'.format(states.shape[0], state_size))\n",
    "print('The state for the first agent looks like:', states[0])"
   ]
  },
  {
   "cell_type": "markdown",
   "metadata": {},
   "source": [
    "### Training \n"
   ]
  },
  {
   "cell_type": "code",
   "execution_count": 5,
   "metadata": {
    "scrolled": false
   },
   "outputs": [
    {
     "name": "stdout",
     "output_type": "stream",
     "text": [
      "\n",
      "Episode 100\tAverage Score: 0.01\tMax score: 0.00\n",
      "Episode 200\tAverage Score: 0.00\tMax score: 0.00\n",
      "Episode 300\tAverage Score: 0.00\tMax score: 0.00\n",
      "Episode 400\tAverage Score: 0.00\tMax score: 0.00\n",
      "Episode 500\tAverage Score: 0.00\tMax score: 0.00\n",
      "Episode 600\tAverage Score: 0.00\tMax score: 0.00\n",
      "Episode 700\tAverage Score: 0.00\tMax score: 0.00\n",
      "Episode 800\tAverage Score: 0.00\tMax score: 0.00\n",
      "Episode 900\tAverage Score: 0.00\tMax score: 0.00\n",
      "Episode 1000\tAverage Score: 0.00\tMax score: 0.00\n",
      "Episode 1100\tAverage Score: 0.01\tMax score: 0.00\n",
      "Episode 1200\tAverage Score: 0.01\tMax score: 0.00\n",
      "Episode 1300\tAverage Score: 0.01\tMax score: 0.00\n",
      "Episode 1400\tAverage Score: 0.00\tMax score: 0.00\n",
      "Episode 1500\tAverage Score: 0.00\tMax score: 0.00\n",
      "Episode 1600\tAverage Score: 0.02\tMax score: 0.10\n",
      "Episode 1700\tAverage Score: 0.05\tMax score: 0.10\n",
      "Episode 1800\tAverage Score: 0.07\tMax score: 0.10\n",
      "Episode 1900\tAverage Score: 0.09\tMax score: 0.09\n",
      "Episode 2000\tAverage Score: 0.09\tMax score: 0.10\n",
      "Episode 2100\tAverage Score: 0.14\tMax score: 0.10\n",
      "Episode 2200\tAverage Score: 0.26\tMax score: 0.10\n",
      "Episode 2300\tAverage Score: 0.29\tMax score: 0.00\n",
      "Environment solved in 2346 episodes!\tAverage Score: 0.50\n"
     ]
    }
   ],
   "source": [
    "def ddpg(n_episodes=5000, max_t=1500):\n",
    "    scores_deque = deque(maxlen=100)\n",
    "    scores = []\n",
    "    for i_episode in range(1, n_episodes+1):\n",
    "        env_info = env.reset(train_mode=True)[brain_name]     # reset the environment    \n",
    "        states = env_info.vector_observations                 # get the current state (for each agent)\n",
    "        agent.reset()                                         # reset the agent noise\n",
    "        score = np.zeros(n_agents)                           # initialize the score (for each agent)\n",
    "        for t in range(max_t):\n",
    "            actions = agent.act(states)\n",
    "            env_info = env.step(actions)[brain_name]            # send all actions to tne environment\n",
    "            next_states = env_info.vector_observations          # get next states\n",
    "            rewards = env_info.rewards                       # get reward\n",
    "            dones = env_info.local_done                         # see if episode finished\n",
    "            agent.step(states, actions, rewards, next_states, dones)\n",
    "            states = next_states\n",
    "            score += rewards                           # update the score \n",
    "            if np.any(dones):\n",
    "                break \n",
    "        scores_deque.append(np.max(score))\n",
    "        scores.append(np.max(score))\n",
    "        \n",
    "        if i_episode % 100 == 0:\n",
    "            print('\\nEpisode {}\\tAverage Score: {:.2f}\\tMax score: {:.2f}'.format(i_episode, np.mean(scores_deque), np.max(score)), end=\"\")\n",
    "        if np.mean(scores_deque) >= 0.5:\n",
    "            print('\\nEnvironment solved in {:d} episodes!\\tAverage Score: {:.2f}'.format(i_episode, np.mean(scores_deque)))\n",
    "            torch.save(agent.actor_local.state_dict(), 'actor.pth')\n",
    "            torch.save(agent.critic_local.state_dict(), 'critic.pth')  \n",
    "            break \n",
    "    return scores\n",
    "\n",
    "params = {\n",
    "\"BUFFER_SIZE\":int(1e6),  # replay buffer size\n",
    "\"BATCH_SIZE\":512,       # minibatch size\n",
    "\"GAMMA\":0.99,            # discount factor\n",
    "\"TAU\":0.01,              # for soft update of target parameters\n",
    "\"LR_ACTOR\":0.0001,         # learning rate of the actor \n",
    "\"LR_CRITIC\":0.001,        # learning rate of the critic\n",
    "\"WEIGHT_DECAY\":0,      # L2 weight decay\n",
    "\"UPDATE_STEP\":4,         # specify updates delay\n",
    "\"N_UPDATES\":1          #specify no. of updates per update cycle\n",
    "}\n",
    "\n",
    "agent = Agent(n = 2, state_size=24, action_size=2, random_seed=42, params=params)\n",
    "scores = ddpg()"
   ]
  },
  {
   "cell_type": "code",
   "execution_count": 6,
   "metadata": {},
   "outputs": [],
   "source": [
    "# Calculate moving average with 100 window size\n",
    "cum_score = []\n",
    "\n",
    "for i in range(1,min(len(scores), 100)):\n",
    "    cum_score.append(np.mean(scores[:i]))\n",
    "    \n",
    "for i in range(100, len(scores)):\n",
    "    cum_score.append(np.mean(scores[i-100:i]))"
   ]
  },
  {
   "cell_type": "code",
   "execution_count": 7,
   "metadata": {},
   "outputs": [
    {
     "data": {
      "image/png": "[encoded data removed]",
      "text/plain": [
       "<Figure size 720x360 with 1 Axes>"
      ]
     },
     "metadata": {
      "needs_background": "light"
     },
     "output_type": "display_data"
    }
   ],
   "source": [
    "#plot scores\n",
    "fig = plt.figure(figsize=(10,5))\n",
    "plt.plot(scores, 'b+', alpha = 0.3, marker=11)\n",
    "plt.plot(cum_score, color='orange', linewidth=2)\n",
    "plt.plot(np.linspace(0, len(scores), len(scores)+1), np.ones(len(scores)+1) * 0.5,'g--', alpha =0.5)\n",
    "plt.ylabel('Score')\n",
    "plt.xlabel('Episode #')\n",
    "plt.legend([\"Max reward\", \"Moving avg - 100 ep\", \"Goal\"])\n",
    "plt.show()"
   ]
  },
  {
   "cell_type": "markdown",
   "metadata": {},
   "source": [
    "When finished, you can close the environment."
   ]
  },
  {
   "cell_type": "code",
   "execution_count": 8,
   "metadata": {},
   "outputs": [],
   "source": [
    "env.close()"
   ]
  }
 ],
 "metadata": {
  "kernelspec": {
   "display_name": "drlnd",
   "language": "python",
   "name": "drlnd"
  },
  "language_info": {
   "codemirror_mode": {
    "name": "ipython",
    "version": 3
   },
   "file_extension": ".py",
   "mimetype": "text/x-python",
   "name": "python",
   "nbconvert_exporter": "python",
   "pygments_lexer": "ipython3",
   "version": "3.6.12"
  },
  "toc": {
   "base_numbering": 1,
   "nav_menu": {},
   "number_sections": false,
   "sideBar": true,
   "skip_h1_title": false,
   "title_cell": "Table of Contents",
   "title_sidebar": "Contents",
   "toc_cell": false,
   "toc_position": {},
   "toc_section_display": true,
   "toc_window_display": false
  }
 },
 "nbformat": 4,
 "nbformat_minor": 2
}
