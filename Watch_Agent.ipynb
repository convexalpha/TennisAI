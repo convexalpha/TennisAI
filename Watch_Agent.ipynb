{
 "cells": [
  {
   "cell_type": "markdown",
   "metadata": {},
   "source": [
    "# Running agent on pretrained weights"
   ]
  },
  {
   "cell_type": "code",
   "execution_count": 1,
   "metadata": {},
   "outputs": [],
   "source": [
    "from unityagents import UnityEnvironment\n",
    "from collections import deque\n",
    "from agents import Agent\n",
    "import torch\n",
    "import numpy as np"
   ]
  },
  {
   "cell_type": "markdown",
   "metadata": {},
   "source": [
    "Load environment"
   ]
  },
  {
   "cell_type": "code",
   "execution_count": 2,
   "metadata": {},
   "outputs": [
    {
     "name": "stderr",
     "output_type": "stream",
     "text": [
      "INFO:unityagents:\n",
      "'Academy' started successfully!\n",
      "Unity Academy name: Academy\n",
      "        Number of Brains: 1\n",
      "        Number of External Brains : 1\n",
      "        Lesson number : 0\n",
      "        Reset Parameters :\n",
      "\t\t\n",
      "Unity brain name: TennisBrain\n",
      "        Number of Visual Observations (per agent): 0\n",
      "        Vector Observation space type: continuous\n",
      "        Vector Observation space size (per agent): 8\n",
      "        Number of stacked Vector Observation: 3\n",
      "        Vector Action space type: continuous\n",
      "        Vector Action space size (per agent): 2\n",
      "        Vector Action descriptions: , \n"
     ]
    }
   ],
   "source": [
    "env = UnityEnvironment(file_name=\"./Tennis_Windows_x86_64/Tennis.exe\")"
   ]
  },
  {
   "cell_type": "code",
   "execution_count": 3,
   "metadata": {},
   "outputs": [],
   "source": [
    "# get the default brain\n",
    "brain_name = env.brain_names[0]\n",
    "brain = env.brains[brain_name]"
   ]
  },
  {
   "cell_type": "markdown",
   "metadata": {},
   "source": [
    "Initialize agent and necessary variables"
   ]
  },
  {
   "cell_type": "code",
   "execution_count": 4,
   "metadata": {},
   "outputs": [],
   "source": [
    "params = {\n",
    "\"BUFFER_SIZE\":int(1e6),  # replay buffer size\n",
    "\"BATCH_SIZE\":512,       # minibatch size\n",
    "\"GAMMA\":0.99,            # discount factor\n",
    "\"TAU\":0.01,              # for soft update of target parameters\n",
    "\"LR_ACTOR\":0.0001,         # learning rate of the actor \n",
    "\"LR_CRITIC\":0.001,        # learning rate of the critic\n",
    "\"WEIGHT_DECAY\":0,      # L2 weight decay\n",
    "\"UPDATE_STEP\":4,         # specify updates delay\n",
    "\"N_UPDATES\":1          #specify no. of updates per update cycle\n",
    "}\n",
    "\n",
    "agent = Agent(n = 2, state_size=24, action_size=2, random_seed=42, params=params)\n",
    "# Load the weights from file\n",
    "agent.actor_local.load_state_dict(torch.load('actor.pth'))\n",
    "agent.critic_local.load_state_dict(torch.load('critic.pth'))\n",
    "# agent.actor_target.load_state_dict(torch.load('actor.pth'))\n",
    "# agent.critic_target.load_state_dict(torch.load('critic.pth'))\n",
    "score = [] \n",
    "env_info = env.reset(train_mode=False)[brain_name]\n",
    "states = env_info.vector_observations"
   ]
  },
  {
   "cell_type": "markdown",
   "metadata": {},
   "source": [
    "Let the agents do their job"
   ]
  },
  {
   "cell_type": "code",
   "execution_count": 5,
   "metadata": {},
   "outputs": [],
   "source": [
    "n_points = 100\n",
    "for _ in range(1, n_points):\n",
    "    actions = agent.act(states)\n",
    "    env_info = env.step(actions)[brain_name]            # send all actions to tne environment\n",
    "    next_states = env_info.vector_observations          # get next states\n",
    "    rewards = env_info.rewards                          # get reward\n",
    "    dones = env_info.local_done                         # see if episode finished\n",
    "    agent.step(states, actions, rewards, next_states, dones)\n",
    "    states = next_states\n",
    "    score += rewards                                    # update the score "
   ]
  },
  {
   "cell_type": "code",
   "execution_count": 6,
   "metadata": {},
   "outputs": [],
   "source": [
    "env.close()"
   ]
  }
 ],
 "metadata": {
  "kernelspec": {
   "display_name": "drlnd",
   "language": "python",
   "name": "drlnd"
  },
  "language_info": {
   "codemirror_mode": {
    "name": "ipython",
    "version": 3
   },
   "file_extension": ".py",
   "mimetype": "text/x-python",
   "name": "python",
   "nbconvert_exporter": "python",
   "pygments_lexer": "ipython3",
   "version": "3.6.10"
  },
  "toc": {
   "base_numbering": 1,
   "nav_menu": {},
   "number_sections": true,
   "sideBar": true,
   "skip_h1_title": false,
   "title_cell": "Table of Contents",
   "title_sidebar": "Contents",
   "toc_cell": false,
   "toc_position": {},
   "toc_section_display": true,
   "toc_window_display": false
  }
 },
 "nbformat": 4,
 "nbformat_minor": 4
}
